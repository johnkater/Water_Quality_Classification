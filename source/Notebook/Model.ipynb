{
 "cells": [
  {
   "cell_type": "markdown",
   "id": "e6730210",
   "metadata": {},
   "source": [
    "## I. Explore Data"
   ]
  },
  {
   "cell_type": "markdown",
   "id": "860560f7",
   "metadata": {},
   "source": [
    "## Đọc dữ liệu và in ra một vài dòng đầu"
   ]
  },
  {
   "cell_type": "code",
   "execution_count": 1,
   "id": "be1c6048",
   "metadata": {},
   "outputs": [
    {
     "data": {
      "text/html": [
       "<div>\n",
       "<style scoped>\n",
       "    .dataframe tbody tr th:only-of-type {\n",
       "        vertical-align: middle;\n",
       "    }\n",
       "\n",
       "    .dataframe tbody tr th {\n",
       "        vertical-align: top;\n",
       "    }\n",
       "\n",
       "    .dataframe thead th {\n",
       "        text-align: right;\n",
       "    }\n",
       "</style>\n",
       "<table border=\"1\" class=\"dataframe\">\n",
       "  <thead>\n",
       "    <tr style=\"text-align: right;\">\n",
       "      <th></th>\n",
       "      <th>Unnamed: 0</th>\n",
       "      <th>ph</th>\n",
       "      <th>Hardness</th>\n",
       "      <th>Solids</th>\n",
       "      <th>Chloramines</th>\n",
       "      <th>Sulfate</th>\n",
       "      <th>Conductivity</th>\n",
       "      <th>Organic_carbon</th>\n",
       "      <th>Trihalomethanes</th>\n",
       "      <th>Turbidity</th>\n",
       "      <th>Potability</th>\n",
       "    </tr>\n",
       "  </thead>\n",
       "  <tbody>\n",
       "    <tr>\n",
       "      <th>0</th>\n",
       "      <td>0</td>\n",
       "      <td>0.420551</td>\n",
       "      <td>0.571139</td>\n",
       "      <td>0.336096</td>\n",
       "      <td>0.543891</td>\n",
       "      <td>0.680385</td>\n",
       "      <td>0.669439</td>\n",
       "      <td>0.313402</td>\n",
       "      <td>0.699753</td>\n",
       "      <td>0.286091</td>\n",
       "      <td>0</td>\n",
       "    </tr>\n",
       "    <tr>\n",
       "      <th>1</th>\n",
       "      <td>1</td>\n",
       "      <td>0.253300</td>\n",
       "      <td>0.297400</td>\n",
       "      <td>0.300611</td>\n",
       "      <td>0.491839</td>\n",
       "      <td>0.355661</td>\n",
       "      <td>0.719411</td>\n",
       "      <td>0.497319</td>\n",
       "      <td>0.450999</td>\n",
       "      <td>0.576793</td>\n",
       "      <td>0</td>\n",
       "    </tr>\n",
       "    <tr>\n",
       "      <th>2</th>\n",
       "      <td>2</td>\n",
       "      <td>0.571547</td>\n",
       "      <td>0.641311</td>\n",
       "      <td>0.321619</td>\n",
       "      <td>0.698543</td>\n",
       "      <td>0.355661</td>\n",
       "      <td>0.414652</td>\n",
       "      <td>0.562017</td>\n",
       "      <td>0.532866</td>\n",
       "      <td>0.303637</td>\n",
       "      <td>0</td>\n",
       "    </tr>\n",
       "    <tr>\n",
       "      <th>3</th>\n",
       "      <td>3</td>\n",
       "      <td>0.587349</td>\n",
       "      <td>0.605536</td>\n",
       "      <td>0.356244</td>\n",
       "      <td>0.603314</td>\n",
       "      <td>0.647347</td>\n",
       "      <td>0.317880</td>\n",
       "      <td>0.622089</td>\n",
       "      <td>0.808065</td>\n",
       "      <td>0.601015</td>\n",
       "      <td>0</td>\n",
       "    </tr>\n",
       "    <tr>\n",
       "      <th>4</th>\n",
       "      <td>4</td>\n",
       "      <td>0.643654</td>\n",
       "      <td>0.484851</td>\n",
       "      <td>0.289922</td>\n",
       "      <td>0.484900</td>\n",
       "      <td>0.514545</td>\n",
       "      <td>0.379337</td>\n",
       "      <td>0.358555</td>\n",
       "      <td>0.253606</td>\n",
       "      <td>0.496327</td>\n",
       "      <td>0</td>\n",
       "    </tr>\n",
       "  </tbody>\n",
       "</table>\n",
       "</div>"
      ],
      "text/plain": [
       "   Unnamed: 0        ph  Hardness    Solids  Chloramines   Sulfate  \\\n",
       "0           0  0.420551  0.571139  0.336096     0.543891  0.680385   \n",
       "1           1  0.253300  0.297400  0.300611     0.491839  0.355661   \n",
       "2           2  0.571547  0.641311  0.321619     0.698543  0.355661   \n",
       "3           3  0.587349  0.605536  0.356244     0.603314  0.647347   \n",
       "4           4  0.643654  0.484851  0.289922     0.484900  0.514545   \n",
       "\n",
       "   Conductivity  Organic_carbon  Trihalomethanes  Turbidity  Potability  \n",
       "0      0.669439        0.313402         0.699753   0.286091           0  \n",
       "1      0.719411        0.497319         0.450999   0.576793           0  \n",
       "2      0.414652        0.562017         0.532866   0.303637           0  \n",
       "3      0.317880        0.622089         0.808065   0.601015           0  \n",
       "4      0.379337        0.358555         0.253606   0.496327           0  "
      ]
     },
     "execution_count": 1,
     "metadata": {},
     "output_type": "execute_result"
    }
   ],
   "source": [
    "import pandas as pd\n",
    "import numpy as np\n",
    "import os\n",
    "data = pd.read_csv('../../data/data_clean.csv')\n",
    "data.head(5)"
   ]
  },
  {
   "cell_type": "markdown",
   "id": "6ccce804",
   "metadata": {},
   "source": [
    "## Lựa chọn thuộc tính"
   ]
  },
  {
   "cell_type": "code",
   "execution_count": 2,
   "id": "cf3d8146",
   "metadata": {
    "scrolled": true
   },
   "outputs": [
    {
     "data": {
      "text/html": [
       "<div>\n",
       "<style scoped>\n",
       "    .dataframe tbody tr th:only-of-type {\n",
       "        vertical-align: middle;\n",
       "    }\n",
       "\n",
       "    .dataframe tbody tr th {\n",
       "        vertical-align: top;\n",
       "    }\n",
       "\n",
       "    .dataframe thead th {\n",
       "        text-align: right;\n",
       "    }\n",
       "</style>\n",
       "<table border=\"1\" class=\"dataframe\">\n",
       "  <thead>\n",
       "    <tr style=\"text-align: right;\">\n",
       "      <th></th>\n",
       "      <th>ph</th>\n",
       "      <th>Hardness</th>\n",
       "      <th>Solids</th>\n",
       "      <th>Chloramines</th>\n",
       "      <th>Sulfate</th>\n",
       "      <th>Conductivity</th>\n",
       "      <th>Organic_carbon</th>\n",
       "      <th>Trihalomethanes</th>\n",
       "      <th>Turbidity</th>\n",
       "      <th>Potability</th>\n",
       "    </tr>\n",
       "  </thead>\n",
       "  <tbody>\n",
       "    <tr>\n",
       "      <th>0</th>\n",
       "      <td>0.420551</td>\n",
       "      <td>0.571139</td>\n",
       "      <td>0.336096</td>\n",
       "      <td>0.543891</td>\n",
       "      <td>0.680385</td>\n",
       "      <td>0.669439</td>\n",
       "      <td>0.313402</td>\n",
       "      <td>0.699753</td>\n",
       "      <td>0.286091</td>\n",
       "      <td>0</td>\n",
       "    </tr>\n",
       "    <tr>\n",
       "      <th>1</th>\n",
       "      <td>0.253300</td>\n",
       "      <td>0.297400</td>\n",
       "      <td>0.300611</td>\n",
       "      <td>0.491839</td>\n",
       "      <td>0.355661</td>\n",
       "      <td>0.719411</td>\n",
       "      <td>0.497319</td>\n",
       "      <td>0.450999</td>\n",
       "      <td>0.576793</td>\n",
       "      <td>0</td>\n",
       "    </tr>\n",
       "    <tr>\n",
       "      <th>2</th>\n",
       "      <td>0.571547</td>\n",
       "      <td>0.641311</td>\n",
       "      <td>0.321619</td>\n",
       "      <td>0.698543</td>\n",
       "      <td>0.355661</td>\n",
       "      <td>0.414652</td>\n",
       "      <td>0.562017</td>\n",
       "      <td>0.532866</td>\n",
       "      <td>0.303637</td>\n",
       "      <td>0</td>\n",
       "    </tr>\n",
       "    <tr>\n",
       "      <th>3</th>\n",
       "      <td>0.587349</td>\n",
       "      <td>0.605536</td>\n",
       "      <td>0.356244</td>\n",
       "      <td>0.603314</td>\n",
       "      <td>0.647347</td>\n",
       "      <td>0.317880</td>\n",
       "      <td>0.622089</td>\n",
       "      <td>0.808065</td>\n",
       "      <td>0.601015</td>\n",
       "      <td>0</td>\n",
       "    </tr>\n",
       "    <tr>\n",
       "      <th>4</th>\n",
       "      <td>0.643654</td>\n",
       "      <td>0.484851</td>\n",
       "      <td>0.289922</td>\n",
       "      <td>0.484900</td>\n",
       "      <td>0.514545</td>\n",
       "      <td>0.379337</td>\n",
       "      <td>0.358555</td>\n",
       "      <td>0.253606</td>\n",
       "      <td>0.496327</td>\n",
       "      <td>0</td>\n",
       "    </tr>\n",
       "  </tbody>\n",
       "</table>\n",
       "</div>"
      ],
      "text/plain": [
       "         ph  Hardness    Solids  Chloramines   Sulfate  Conductivity  \\\n",
       "0  0.420551  0.571139  0.336096     0.543891  0.680385      0.669439   \n",
       "1  0.253300  0.297400  0.300611     0.491839  0.355661      0.719411   \n",
       "2  0.571547  0.641311  0.321619     0.698543  0.355661      0.414652   \n",
       "3  0.587349  0.605536  0.356244     0.603314  0.647347      0.317880   \n",
       "4  0.643654  0.484851  0.289922     0.484900  0.514545      0.379337   \n",
       "\n",
       "   Organic_carbon  Trihalomethanes  Turbidity  Potability  \n",
       "0        0.313402         0.699753   0.286091           0  \n",
       "1        0.497319         0.450999   0.576793           0  \n",
       "2        0.562017         0.532866   0.303637           0  \n",
       "3        0.622089         0.808065   0.601015           0  \n",
       "4        0.358555         0.253606   0.496327           0  "
      ]
     },
     "execution_count": 2,
     "metadata": {},
     "output_type": "execute_result"
    }
   ],
   "source": [
    "data = data.loc[:,['ph','Hardness','Solids','Chloramines','Sulfate','Conductivity','Organic_carbon','Trihalomethanes','Turbidity','Potability']]\n",
    "data.head(5)"
   ]
  },
  {
   "cell_type": "markdown",
   "id": "69700468",
   "metadata": {},
   "source": [
    "## OverSampling"
   ]
  },
  {
   "cell_type": "code",
   "execution_count": 3,
   "id": "9d71b5ec",
   "metadata": {},
   "outputs": [
    {
     "name": "stdout",
     "output_type": "stream",
     "text": [
      "(3996, 9) (3996, 1)\n"
     ]
    }
   ],
   "source": [
    "# Import the library\n",
    "from sklearn import datasets\n",
    "from sklearn import metrics\n",
    "from sklearn.model_selection import train_test_split\n",
    "\n",
    "# Setup the data for classifier\n",
    "x = data.loc[:,['ph','Hardness','Solids','Chloramines','Sulfate','Conductivity','Organic_carbon','Trihalomethanes','Turbidity']]\n",
    "y = data.loc[:,['Potability']]\n",
    "from imblearn.over_sampling import SMOTE\n",
    "oversample = SMOTE()\n",
    "x_res, y_res = oversample.fit_resample(x, y)\n",
    "print(x_res.shape,y_res.shape)"
   ]
  },
  {
   "cell_type": "markdown",
   "id": "9dd6f1f6",
   "metadata": {},
   "source": [
    "## Phân chia dữ liệu (phương pháp hold out) : 70% Training , 30% Testing"
   ]
  },
  {
   "cell_type": "code",
   "execution_count": 4,
   "id": "300038bd",
   "metadata": {},
   "outputs": [],
   "source": [
    "# split data set\n",
    "x_train, x_test, y_train, y_test = train_test_split(x_res, y_res, test_size=0.3)"
   ]
  },
  {
   "cell_type": "markdown",
   "id": "9eda34c8",
   "metadata": {},
   "source": [
    "## II. Training model"
   ]
  },
  {
   "cell_type": "markdown",
   "id": "ce614ae4",
   "metadata": {},
   "source": [
    "## 2.1. Single model "
   ]
  },
  {
   "cell_type": "markdown",
   "id": "28fecf7a",
   "metadata": {},
   "source": [
    "### 2.1.1. KNeighborsClassifier"
   ]
  },
  {
   "cell_type": "code",
   "execution_count": 5,
   "id": "e64217d2",
   "metadata": {},
   "outputs": [
    {
     "name": "stdout",
     "output_type": "stream",
     "text": [
      "\n",
      "KNeighborsClassifier()\n"
     ]
    },
    {
     "name": "stderr",
     "output_type": "stream",
     "text": [
      "C:\\Users\\Admin\\anaconda3\\lib\\site-packages\\sklearn\\neighbors\\_classification.py:198: DataConversionWarning: A column-vector y was passed when a 1d array was expected. Please change the shape of y to (n_samples,), for example using ravel().\n",
      "  return self._fit(X, y)\n",
      "C:\\Users\\Admin\\anaconda3\\lib\\site-packages\\sklearn\\neighbors\\_classification.py:228: FutureWarning: Unlike other reduction functions (e.g. `skew`, `kurtosis`), the default behavior of `mode` typically preserves the axis it acts along. In SciPy 1.11.0, this behavior will change: the default value of `keepdims` will become False, the `axis` over which the statistic is taken will be eliminated, and the value None will no longer be accepted. Set `keepdims` to True or False to avoid this warning.\n",
      "  mode, _ = stats.mode(_y[neigh_ind, k], axis=1)\n"
     ]
    },
    {
     "data": {
      "text/plain": [
       "0.658882402001668"
      ]
     },
     "execution_count": 5,
     "metadata": {},
     "output_type": "execute_result"
    }
   ],
   "source": [
    "from sklearn.neighbors import KNeighborsClassifier\n",
    "model_KNC = KNeighborsClassifier(n_neighbors=5)\n",
    "model_KNC.fit(x_train, y_train)\n",
    "print(); print(model_KNC)\n",
    "# Now we have predicted the output by passing X_test and also stored real target in expected_y.\n",
    "expected_y  = y_test\n",
    "predicted_y_KNC = model_KNC.predict(x_test)\n",
    "# Accuracy for model\n",
    "from sklearn.metrics import accuracy_score \n",
    "accuracy = accuracy_score(expected_y , predicted_y_KNC)\n",
    "accuracy"
   ]
  },
  {
   "cell_type": "markdown",
   "id": "e197da23",
   "metadata": {},
   "source": [
    "### 2.1.2. LogisticRegression"
   ]
  },
  {
   "cell_type": "code",
   "execution_count": 6,
   "id": "4769d577",
   "metadata": {
    "scrolled": true
   },
   "outputs": [
    {
     "name": "stdout",
     "output_type": "stream",
     "text": [
      "\n",
      "LogisticRegression()\n"
     ]
    },
    {
     "name": "stderr",
     "output_type": "stream",
     "text": [
      "C:\\Users\\Admin\\anaconda3\\lib\\site-packages\\sklearn\\utils\\validation.py:993: DataConversionWarning: A column-vector y was passed when a 1d array was expected. Please change the shape of y to (n_samples, ), for example using ravel().\n",
      "  y = column_or_1d(y, warn=True)\n"
     ]
    },
    {
     "data": {
      "text/plain": [
       "0.5104253544620517"
      ]
     },
     "execution_count": 6,
     "metadata": {},
     "output_type": "execute_result"
    }
   ],
   "source": [
    "from sklearn.linear_model import LogisticRegression\n",
    "model_LR = LogisticRegression()\n",
    "model_LR.fit(x_train, y_train)\n",
    "print(); print(model_LR)\n",
    "# Now we have predicted the output by passing X_test and also stored real target in expected_y.\n",
    "expected_y  = y_test\n",
    "predicted_y_LR = model_LR.predict(x_test)\n",
    "# Accuracy for model\n",
    "from sklearn.metrics import accuracy_score \n",
    "accuracy = accuracy_score(expected_y , predicted_y_LR)\n",
    "accuracy"
   ]
  },
  {
   "cell_type": "markdown",
   "id": "4f9332ab",
   "metadata": {},
   "source": [
    "### 2.1.3. DecisionTreeClassifier"
   ]
  },
  {
   "cell_type": "code",
   "execution_count": 7,
   "id": "274f0466",
   "metadata": {},
   "outputs": [
    {
     "name": "stdout",
     "output_type": "stream",
     "text": [
      "\n",
      "DecisionTreeClassifier(random_state=1)\n"
     ]
    },
    {
     "data": {
      "text/plain": [
       "0.6071726438698916"
      ]
     },
     "execution_count": 7,
     "metadata": {},
     "output_type": "execute_result"
    }
   ],
   "source": [
    "from sklearn.tree import DecisionTreeClassifier\n",
    "model_DT = DecisionTreeClassifier(random_state=1)\n",
    "model_DT.fit(x_train, y_train)\n",
    "print(); print(model_DT)\n",
    "# Now we have predicted the output by passing X_test and also stored real target in expected_y.\n",
    "expected_y  = y_test\n",
    "predicted_y_DT = model_DT.predict(x_test)\n",
    "# Accuracy for model\n",
    "from sklearn.metrics import accuracy_score \n",
    "accuracy = accuracy_score(expected_y , predicted_y_DT)\n",
    "accuracy"
   ]
  },
  {
   "cell_type": "markdown",
   "id": "926ba349",
   "metadata": {},
   "source": [
    "## 2.2. Basic Ensemble Model "
   ]
  },
  {
   "cell_type": "markdown",
   "id": "73b61167",
   "metadata": {},
   "source": [
    "### 2.2.1. Max Voting "
   ]
  },
  {
   "cell_type": "code",
   "execution_count": 8,
   "id": "2dc27b54",
   "metadata": {},
   "outputs": [
    {
     "name": "stderr",
     "output_type": "stream",
     "text": [
      "C:\\Users\\Admin\\anaconda3\\lib\\site-packages\\sklearn\\preprocessing\\_label.py:98: DataConversionWarning: A column-vector y was passed when a 1d array was expected. Please change the shape of y to (n_samples, ), for example using ravel().\n",
      "  y = column_or_1d(y, warn=True)\n",
      "C:\\Users\\Admin\\anaconda3\\lib\\site-packages\\sklearn\\preprocessing\\_label.py:133: DataConversionWarning: A column-vector y was passed when a 1d array was expected. Please change the shape of y to (n_samples, ), for example using ravel().\n",
      "  y = column_or_1d(y, warn=True)\n",
      "C:\\Users\\Admin\\anaconda3\\lib\\site-packages\\sklearn\\neighbors\\_classification.py:228: FutureWarning: Unlike other reduction functions (e.g. `skew`, `kurtosis`), the default behavior of `mode` typically preserves the axis it acts along. In SciPy 1.11.0, this behavior will change: the default value of `keepdims` will become False, the `axis` over which the statistic is taken will be eliminated, and the value None will no longer be accepted. Set `keepdims` to True or False to avoid this warning.\n",
      "  mode, _ = stats.mode(_y[neigh_ind, k], axis=1)\n"
     ]
    },
    {
     "data": {
      "text/plain": [
       "0.6255212677231026"
      ]
     },
     "execution_count": 8,
     "metadata": {},
     "output_type": "execute_result"
    }
   ],
   "source": [
    "from sklearn.ensemble import VotingClassifier\n",
    "model_MaxVoting = VotingClassifier(estimators=[('lr', model_LR), ('kn', model_KNC),('dt', model_DT)], voting='hard')\n",
    "model_MaxVoting.fit(x_train,y_train)\n",
    "model_MaxVoting.score(x_test,y_test)"
   ]
  },
  {
   "cell_type": "markdown",
   "id": "9cdba27c",
   "metadata": {},
   "source": [
    "### 2.2.2. Averaging"
   ]
  },
  {
   "cell_type": "code",
   "execution_count": 9,
   "id": "f906d826",
   "metadata": {},
   "outputs": [
    {
     "data": {
      "text/plain": [
       "0.6255212677231026"
      ]
     },
     "execution_count": 9,
     "metadata": {},
     "output_type": "execute_result"
    }
   ],
   "source": [
    "def average(x):\n",
    "    for i in range(len(x)):\n",
    "        if x[i] > 0.5:\n",
    "            x[i] = 1\n",
    "        else :\n",
    "            x[i] = 0\n",
    "    return x\n",
    "model_average = (predicted_y_DT + predicted_y_LR + predicted_y_KNC)/3\n",
    "model_average = average(model_average)\n",
    "accuracy = accuracy_score(expected_y , model_average)\n",
    "accuracy"
   ]
  },
  {
   "cell_type": "markdown",
   "id": "273ff1de",
   "metadata": {},
   "source": [
    "### 2.2.3. Weighted Average"
   ]
  },
  {
   "cell_type": "code",
   "execution_count": 11,
   "id": "4e7b1236",
   "metadata": {},
   "outputs": [
    {
     "data": {
      "text/plain": [
       "0.658882402001668"
      ]
     },
     "execution_count": 11,
     "metadata": {},
     "output_type": "execute_result"
    }
   ],
   "source": [
    "model_wa_01 = predicted_y_KNC - 0.5\n",
    "model_wa_02 = predicted_y_LR - 0.5\n",
    "model_wa_03 = predicted_y_DT - 0.5\n",
    "def weighted_average(x):\n",
    "    for i in range(len(x)):\n",
    "        if x[i] > 0:\n",
    "            x[i] = 1\n",
    "        else :\n",
    "            x[i] = 0\n",
    "    return x\n",
    "model_weighted_average = (model_wa_01*0.6 + model_wa_02*0.2 + model_wa_03*0.2)\n",
    "model_weighted_average = weighted_average(model_weighted_average)\n",
    "accuracy = accuracy_score(expected_y , model_weighted_average)\n",
    "accuracy"
   ]
  },
  {
   "cell_type": "markdown",
   "id": "f358993a",
   "metadata": {},
   "source": [
    "## 2.3. Advanced Ensemble"
   ]
  },
  {
   "cell_type": "markdown",
   "id": "70be8594",
   "metadata": {},
   "source": [
    "### 2.3.1. Bagging"
   ]
  },
  {
   "cell_type": "code",
   "execution_count": 12,
   "id": "988ff946",
   "metadata": {},
   "outputs": [
    {
     "name": "stderr",
     "output_type": "stream",
     "text": [
      "C:\\Users\\Admin\\AppData\\Local\\Temp\\ipykernel_10928\\2419695806.py:3: DataConversionWarning: A column-vector y was passed when a 1d array was expected. Please change the shape of y to (n_samples,), for example using ravel().\n",
      "  model_RF.fit(x_train, y_train)\n"
     ]
    },
    {
     "name": "stdout",
     "output_type": "stream",
     "text": [
      "\n",
      "RandomForestClassifier()\n"
     ]
    },
    {
     "data": {
      "text/plain": [
       "0.7197664720600501"
      ]
     },
     "execution_count": 12,
     "metadata": {},
     "output_type": "execute_result"
    }
   ],
   "source": [
    "from sklearn.ensemble import RandomForestClassifier\n",
    "model_RF = RandomForestClassifier()\n",
    "model_RF.fit(x_train, y_train)\n",
    "print(); print(model_RF)\n",
    "# Now we have predicted the output by passing X_test and also stored real target in expected_y.\n",
    "expected_y  = y_test\n",
    "predicted_y_RF = model_RF.predict(x_test)\n",
    "# Accuracy for model\n",
    "from sklearn.metrics import accuracy_score \n",
    "accuracy = accuracy_score(expected_y , predicted_y_RF)\n",
    "accuracy"
   ]
  },
  {
   "cell_type": "markdown",
   "id": "4bf0c4c3",
   "metadata": {},
   "source": [
    "### 2.3.2. Boosting"
   ]
  },
  {
   "cell_type": "code",
   "execution_count": 13,
   "id": "3ca5cdd0",
   "metadata": {},
   "outputs": [
    {
     "name": "stdout",
     "output_type": "stream",
     "text": [
      "\n",
      "XGBClassifier(base_score=0.5, booster='gbtree', callbacks=None,\n",
      "              colsample_bylevel=1, colsample_bynode=1, colsample_bytree=1,\n",
      "              early_stopping_rounds=None, enable_categorical=False,\n",
      "              eval_metric=None, feature_types=None, gamma=0, gpu_id=-1,\n",
      "              grow_policy='depthwise', importance_type=None,\n",
      "              interaction_constraints='', learning_rate=0.300000012,\n",
      "              max_bin=256, max_cat_threshold=64, max_cat_to_onehot=4,\n",
      "              max_delta_step=0, max_depth=6, max_leaves=0, min_child_weight=1,\n",
      "              missing=nan, monotone_constraints='()', n_estimators=100,\n",
      "              n_jobs=0, num_parallel_tree=1, predictor='auto', random_state=0, ...)\n"
     ]
    },
    {
     "data": {
      "text/plain": [
       "0.6797331109257715"
      ]
     },
     "execution_count": 13,
     "metadata": {},
     "output_type": "execute_result"
    }
   ],
   "source": [
    "from numpy import loadtxt\n",
    "from xgboost import XGBClassifier\n",
    "model_XGB = XGBClassifier()\n",
    "model_XGB.fit(x_train, y_train)\n",
    "print(); print(model_XGB)\n",
    "# Now we have predicted the output by passing X_test and also stored real target in expected_y.\n",
    "expected_y  = y_test\n",
    "predicted_y_XGB = model_XGB.predict(x_test)\n",
    "# Accuracy for model\n",
    "from sklearn.metrics import accuracy_score \n",
    "accuracy = accuracy_score(expected_y , predicted_y_XGB)\n",
    "accuracy"
   ]
  },
  {
   "cell_type": "markdown",
   "id": "eb15670d",
   "metadata": {},
   "source": [
    "## III. Tối ưu mô hình"
   ]
  },
  {
   "cell_type": "markdown",
   "id": "df52295a",
   "metadata": {},
   "source": [
    "### 3.1. Tối ưu mô hình XGBoost"
   ]
  },
  {
   "cell_type": "code",
   "execution_count": 19,
   "id": "af31f552",
   "metadata": {},
   "outputs": [
    {
     "name": "stdout",
     "output_type": "stream",
     "text": [
      "\n",
      "XGBClassifier(base_score=0.5, booster='gbtree', callbacks=None,\n",
      "              colsample_bylevel=1, colsample_bynode=1, colsample_bytree=1,\n",
      "              early_stopping_rounds=None, enable_categorical=False,\n",
      "              eval_metric=None, feature_types=None, gamma=0.01, gpu_id=-1,\n",
      "              grow_policy='depthwise', importance_type=None,\n",
      "              interaction_constraints='', learning_rate=0.0001, max_bin=256,\n",
      "              max_cat_threshold=64, max_cat_to_onehot=4, max_delta_step=0,\n",
      "              max_depth=15, max_leaves=0, min_child_weight=0.5, missing=nan,\n",
      "              monotone_constraints='()', n_estimators=100000, n_jobs=0,\n",
      "              num_parallel_tree=1, predictor='auto', random_state=42, ...)\n"
     ]
    },
    {
     "data": {
      "text/plain": [
       "0.7281067556296914"
      ]
     },
     "execution_count": 19,
     "metadata": {},
     "output_type": "execute_result"
    }
   ],
   "source": [
    "from numpy import loadtxt\n",
    "from xgboost import XGBClassifier\n",
    "model_XGB = XGBClassifier(n_estimators = 100000,learning_rate = 0.0001,max_depth = 15 , subsample = 0.5,random_state=42,min_child_weight=0.5,gamma=0.01,scale_pos_weight=1)\n",
    "model_XGB.fit(x_train, y_train)\n",
    "print(); print(model_XGB)\n",
    "# Now we have predicted the output by passing X_test and also stored real target in expected_y.\n",
    "expected_y  = y_test\n",
    "predicted_y_XGB = model_XGB.predict(x_test)\n",
    "# Accuracy for model\n",
    "from sklearn.metrics import accuracy_score \n",
    "accuracy = accuracy_score(expected_y , predicted_y_XGB)\n",
    "accuracy"
   ]
  },
  {
   "cell_type": "code",
   "execution_count": 15,
   "id": "721b30ec",
   "metadata": {},
   "outputs": [
    {
     "name": "stdout",
     "output_type": "stream",
     "text": [
      "              precision    recall  f1-score   support\n",
      "\n",
      "           0       0.72      0.71      0.72       609\n",
      "           1       0.71      0.72      0.71       590\n",
      "\n",
      "    accuracy                           0.71      1199\n",
      "   macro avg       0.71      0.71      0.71      1199\n",
      "weighted avg       0.71      0.71      0.71      1199\n",
      "\n",
      "[[433 176]\n",
      " [167 423]]\n"
     ]
    }
   ],
   "source": [
    "# Here we have printed classification report and confusion matrix for the classifier.\n",
    "print(metrics.classification_report(expected_y, predicted_y_XGB))\n",
    "print(metrics.confusion_matrix(expected_y, predicted_y_XGB))"
   ]
  },
  {
   "cell_type": "markdown",
   "id": "1753161a",
   "metadata": {},
   "source": [
    "### 3.2. Tối ưu mô hình Random Forest"
   ]
  },
  {
   "cell_type": "code",
   "execution_count": 21,
   "id": "583770ee",
   "metadata": {},
   "outputs": [
    {
     "name": "stderr",
     "output_type": "stream",
     "text": [
      "C:\\Users\\Admin\\AppData\\Local\\Temp\\ipykernel_10928\\3804496893.py:3: DataConversionWarning: A column-vector y was passed when a 1d array was expected. Please change the shape of y to (n_samples,), for example using ravel().\n",
      "  model_RF.fit(x_train, y_train)\n"
     ]
    },
    {
     "name": "stdout",
     "output_type": "stream",
     "text": [
      "\n",
      "RandomForestClassifier(max_depth=15, min_samples_split=4, n_estimators=1000)\n"
     ]
    },
    {
     "data": {
      "text/plain": [
       "0.7297748123436196"
      ]
     },
     "execution_count": 21,
     "metadata": {},
     "output_type": "execute_result"
    }
   ],
   "source": [
    "from sklearn.ensemble import RandomForestClassifier\n",
    "model_RF = RandomForestClassifier(n_estimators = 1000,max_depth = 15,min_samples_split=4,min_samples_leaf = 1)\n",
    "model_RF.fit(x_train, y_train)\n",
    "print(); print(model_RF)\n",
    "# Now we have predicted the output by passing X_test and also stored real target in expected_y.\n",
    "expected_y  = y_test\n",
    "predicted_y_RF = model_RF.predict(x_test)\n",
    "# Accuracy for model\n",
    "from sklearn.metrics import accuracy_score \n",
    "accuracy = accuracy_score(expected_y , predicted_y_RF)\n",
    "accuracy\n"
   ]
  },
  {
   "cell_type": "code",
   "execution_count": 17,
   "id": "5d6de386",
   "metadata": {},
   "outputs": [
    {
     "name": "stdout",
     "output_type": "stream",
     "text": [
      "              precision    recall  f1-score   support\n",
      "\n",
      "           0       0.75      0.73      0.74       609\n",
      "           1       0.73      0.74      0.74       590\n",
      "\n",
      "    accuracy                           0.74      1199\n",
      "   macro avg       0.74      0.74      0.74      1199\n",
      "weighted avg       0.74      0.74      0.74      1199\n",
      "\n",
      "[[444 165]\n",
      " [151 439]]\n"
     ]
    }
   ],
   "source": [
    "# Here we have printed classification report and confusion matrix for the classifier.\n",
    "print(metrics.classification_report(expected_y, predicted_y_RF))\n",
    "print(metrics.confusion_matrix(expected_y, predicted_y_RF))"
   ]
  },
  {
   "cell_type": "code",
   "execution_count": null,
   "id": "caca5835",
   "metadata": {},
   "outputs": [],
   "source": []
  },
  {
   "cell_type": "code",
   "execution_count": null,
   "id": "88f4ccb4",
   "metadata": {},
   "outputs": [],
   "source": []
  },
  {
   "cell_type": "code",
   "execution_count": null,
   "id": "a6444da6",
   "metadata": {},
   "outputs": [],
   "source": []
  },
  {
   "cell_type": "code",
   "execution_count": null,
   "id": "07b4b9df",
   "metadata": {},
   "outputs": [],
   "source": []
  }
 ],
 "metadata": {
  "kernelspec": {
   "display_name": "Python 3 (ipykernel)",
   "language": "python",
   "name": "python3"
  },
  "language_info": {
   "codemirror_mode": {
    "name": "ipython",
    "version": 3
   },
   "file_extension": ".py",
   "mimetype": "text/x-python",
   "name": "python",
   "nbconvert_exporter": "python",
   "pygments_lexer": "ipython3",
   "version": "3.9.13"
  }
 },
 "nbformat": 4,
 "nbformat_minor": 5
}
